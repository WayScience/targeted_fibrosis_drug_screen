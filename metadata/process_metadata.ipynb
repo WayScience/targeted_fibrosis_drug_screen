{
 "cells": [
  {
   "cell_type": "code",
   "execution_count": 1,
   "metadata": {},
   "outputs": [],
   "source": [
    "import sys\n",
    "import pathlib\n",
    "import pandas as pd\n",
    "\n",
    "sys.path.append(\"../\")\n",
    "from utils import io_utils"
   ]
  },
  {
   "cell_type": "markdown",
   "metadata": {},
   "source": [
    "Setting up paths"
   ]
  },
  {
   "cell_type": "code",
   "execution_count": 2,
   "metadata": {},
   "outputs": [],
   "source": [
    "# setting up working directory and where the pathway_platemap file paths\n",
    "original_platemaps_path = pathlib.Path(\"./original_platemaps\").resolve(strict=True)\n",
    "pathways_path = (original_platemaps_path / \"pathways_platemap.csv\").resolve(strict=True)\n",
    "\n",
    "# settting original barcode path\n",
    "barcode_path = (original_platemaps_path / \"barcode_platemap.csv\").resolve(strict=True)\n",
    "\n",
    "# setting all the platemap paths\n",
    "all_platemap_paths = list(original_platemaps_path.glob(\"Target_Selective_Library_Screen_*.csv\"))\n",
    "\n",
    "# creating output directory\n",
    "updated_platemaps_dir = pathlib.Path(\"./updated_platemaps\")\n",
    "updated_platemaps_dir.mkdir(exist_ok=True)\n",
    "\n",
    "# update barcode output path\n",
    "updated_barcode_path = (updated_platemaps_dir / \"updated_barcode_platemap.csv\").resolve()"
   ]
  },
  {
   "cell_type": "markdown",
   "metadata": {},
   "source": [
    "This process adds pathway metadata to experimental platemaps to provide more biological context for single-cell image-based profiles. Here's how it works:\n",
    "\n",
    "1. Pathway metadata, which includes treatment identifiers, well positions, and pathway information, is filtered for each specific plate.\n",
    "2. This filtered metadata is merged with the platemap, linking treatments and well positions to their corresponding pathways.\n",
    "3. The final augmented platemaps offer a clear view that connects experimental treatments to their associated pathways."
   ]
  },
  {
   "cell_type": "code",
   "execution_count": 3,
   "metadata": {},
   "outputs": [],
   "source": [
    "# loading in the pathway_platemap metadata\n",
    "pathway_meta_df = pd.read_csv(pathways_path)\n",
    "\n",
    "# Iterate over all platemap files to augment them with pathway MOA information\n",
    "for platemap_path in all_platemap_paths:\n",
    "    # Generate an output filename for the augmented platemap\n",
    "    # Example: Extract prefix and plate ID, then append a \"with_moa\" tag\n",
    "    prefix = platemap_path.stem.rsplit(\"_\", 2)[0]\n",
    "    plate_id = platemap_path.stem.split(\"_\", 4)[-1]\n",
    "    tag = \"with_moa\"\n",
    "    outname = f\"{prefix}_{plate_id}_{tag}.csv\"\n",
    "\n",
    "    # Load the current platemap into a DataFrame\n",
    "    plate_meta_df = pd.read_csv(platemap_path)\n",
    "\n",
    "    # Filter the pathway metadata to include only rows corresponding to the current plate\n",
    "    # Select relevant columns: 'UCD ID' (treatment), 'Well' (well position), and 'Pathway' (moa)\n",
    "    plate_pathway_meta_df = pathway_meta_df.loc[pathway_meta_df[\"Plate\"] == plate_id][\n",
    "        [\"UCD ID\", \"Well\", \"Pathway\"]\n",
    "    ]\n",
    "\n",
    "    # Merge the pathway metadata into the platemap using 'treatment' and 'well_position'\n",
    "    # as keys. Perform a left join to retain all rows from the platemap\n",
    "    merged_df = plate_meta_df.merge(\n",
    "        plate_pathway_meta_df,\n",
    "        left_on=[\"treatment\", \"well_position\"],\n",
    "        right_on=[\"UCD ID\", \"Well\"],\n",
    "        how=\"left\",\n",
    "    )\n",
    "\n",
    "    # Ensure no rows or columns in the original platemap were modified during the merge\n",
    "    # This checks that only the added MOA information changes the dataframe,\n",
    "    # while the original content remains identical.\n",
    "    assert merged_df[\n",
    "        plate_meta_df.columns\n",
    "    ].equals(\n",
    "        plate_meta_df\n",
    "    ), \"The merged DataFrame's original rows or columns have been unexpectedly modified.\"\n",
    "\n",
    "    # Save the augmented platemap with MOA information to the output directory\n",
    "    merged_df.to_csv(updated_platemaps_dir / outname, index=False)"
   ]
  },
  {
   "cell_type": "code",
   "execution_count": 4,
   "metadata": {},
   "outputs": [
    {
     "data": {
      "text/html": [
       "<div>\n",
       "<style scoped>\n",
       "    .dataframe tbody tr th:only-of-type {\n",
       "        vertical-align: middle;\n",
       "    }\n",
       "\n",
       "    .dataframe tbody tr th {\n",
       "        vertical-align: top;\n",
       "    }\n",
       "\n",
       "    .dataframe thead th {\n",
       "        text-align: right;\n",
       "    }\n",
       "</style>\n",
       "<table border=\"1\" class=\"dataframe\">\n",
       "  <thead>\n",
       "    <tr style=\"text-align: right;\">\n",
       "      <th></th>\n",
       "      <th>plate_barcode</th>\n",
       "      <th>platemap_file</th>\n",
       "    </tr>\n",
       "  </thead>\n",
       "  <tbody>\n",
       "    <tr>\n",
       "      <th>0</th>\n",
       "      <td>localhost240926150001</td>\n",
       "      <td>Target_Selective_Library_Screen_Plate_1_with_p...</td>\n",
       "    </tr>\n",
       "    <tr>\n",
       "      <th>1</th>\n",
       "      <td>localhost240927060001</td>\n",
       "      <td>Target_Selective_Library_Screen_Plate_1_with_p...</td>\n",
       "    </tr>\n",
       "    <tr>\n",
       "      <th>2</th>\n",
       "      <td>localhost240927120001</td>\n",
       "      <td>Target_Selective_Library_Screen_Plate_1_with_p...</td>\n",
       "    </tr>\n",
       "    <tr>\n",
       "      <th>3</th>\n",
       "      <td>localhost240928120001</td>\n",
       "      <td>Target_Selective_Library_Screen_Plate_1_with_p...</td>\n",
       "    </tr>\n",
       "  </tbody>\n",
       "</table>\n",
       "</div>"
      ],
      "text/plain": [
       "           plate_barcode                                      platemap_file\n",
       "0  localhost240926150001  Target_Selective_Library_Screen_Plate_1_with_p...\n",
       "1  localhost240927060001  Target_Selective_Library_Screen_Plate_1_with_p...\n",
       "2  localhost240927120001  Target_Selective_Library_Screen_Plate_1_with_p...\n",
       "3  localhost240928120001  Target_Selective_Library_Screen_Plate_1_with_p..."
      ]
     },
     "execution_count": 4,
     "metadata": {},
     "output_type": "execute_result"
    }
   ],
   "source": [
    "# Load the original barcode metadata\n",
    "moa_tag = \"with_pathways\"\n",
    "barcodes = io_utils.load_barcodes(barcode_path=barcode_path)\n",
    "\n",
    "# Initialize a list to store the updated barcode entries\n",
    "updated_barcodes = []\n",
    "\n",
    "# Iterate through each batch and its associated plates in the barcode metadata\n",
    "for batch_id, batch_profiles in barcodes.items():\n",
    "    # Generate the updated platemap name with the new tag\n",
    "    updated_platemap_name = f\"{list(batch_profiles.keys())[0]}_{moa_tag}\"\n",
    "\n",
    "    # Iterate through all profiles associated with the current batch of plates\n",
    "    for profile_names in batch_profiles.values():\n",
    "        for profile_name in profile_names:\n",
    "            # Append the updated profile-barcode mapping\n",
    "            updated_barcodes.append([profile_name, updated_platemap_name])\n",
    "\n",
    "# Convert the updated barcode list into a DataFrame\n",
    "updated_barcodes_df = pd.DataFrame(\n",
    "    updated_barcodes, columns=[\"plate_barcode\", \"platemap_file\"]\n",
    ")\n",
    "\n",
    "# Save dataframe into the module specific result folder\n",
    "updated_barcodes_df.to_csv(updated_barcode_path, index=False)\n",
    "\n",
    "# Display new barcode file\n",
    "updated_barcodes_df.head()"
   ]
  }
 ],
 "metadata": {
  "kernelspec": {
   "display_name": "copairs-dev",
   "language": "python",
   "name": "python3"
  },
  "language_info": {
   "codemirror_mode": {
    "name": "ipython",
    "version": 3
   },
   "file_extension": ".py",
   "mimetype": "text/x-python",
   "name": "python",
   "nbconvert_exporter": "python",
   "pygments_lexer": "ipython3",
   "version": "3.11.11"
  }
 },
 "nbformat": 4,
 "nbformat_minor": 2
}
