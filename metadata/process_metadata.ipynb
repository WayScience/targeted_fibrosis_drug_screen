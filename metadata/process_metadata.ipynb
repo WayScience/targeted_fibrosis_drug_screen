{
 "cells": [
  {
   "cell_type": "code",
   "execution_count": 1,
   "metadata": {},
   "outputs": [],
   "source": [
    "import pathlib\n",
    "import pandas as pd"
   ]
  },
  {
   "cell_type": "markdown",
   "metadata": {},
   "source": [
    "Setting up paths"
   ]
  },
  {
   "cell_type": "code",
   "execution_count": 2,
   "metadata": {},
   "outputs": [],
   "source": [
    "# setting up working directory and where the pathway_platemap file paths\n",
    "original_platemaps_path = pathlib.Path(\"./original_platemaps\").resolve(strict=True)\n",
    "pathways_path = (original_platemaps_path / \"pathways_platemap.csv\").resolve(strict=True)\n",
    "\n",
    "# setting all the platemap paths\n",
    "all_platemap_paths = list(original_platemaps_path.glob(\"Target_Selective_Library_Screen_*.csv\"))\n",
    "\n",
    "# creating output directory\n",
    "updated_platemaps_dir = pathlib.Path(\"./updated_platemaps\")\n",
    "updated_platemaps_dir.mkdir(exist_ok=True)"
   ]
  },
  {
   "cell_type": "markdown",
   "metadata": {},
   "source": [
    "This process adds pathway metadata to experimental platemaps to provide more biological context for single-cell image-based profiles. Here's how it works:\n",
    "\n",
    "1. Pathway metadata, which includes treatment identifiers, well positions, and pathway information, is filtered for each specific plate.\n",
    "2. This filtered metadata is merged with the platemap, linking treatments and well positions to their corresponding pathways.\n",
    "3. The final augmented platemaps offer a clear view that connects experimental treatments to their associated pathways."
   ]
  },
  {
   "cell_type": "code",
   "execution_count": 3,
   "metadata": {},
   "outputs": [],
   "source": [
    "# loading in the pathway_platemap metadata\n",
    "pathway_meta_df = pd.read_csv(pathways_path)\n",
    "\n",
    "# Iterate over all platemap files to augment them with pathway MOA information\n",
    "for platemap_path in all_platemap_paths:\n",
    "    # Generate an output filename for the augmented platemap\n",
    "    # Example: Extract prefix and plate ID, then append a \"with_moa\" tag\n",
    "    prefix = platemap_path.stem.rsplit(\"_\", 2)[0]\n",
    "    plate_id = platemap_path.stem.split(\"_\", 4)[-1]\n",
    "    tag = \"with_moa\"\n",
    "    outname = f\"{prefix}_{plate_id}_{tag}.csv\"\n",
    "\n",
    "    # Load the current platemap into a DataFrame\n",
    "    plate_meta_df = pd.read_csv(platemap_path)\n",
    "\n",
    "    # Filter the pathway metadata to include only rows corresponding to the current plate\n",
    "    # Select relevant columns: 'UCD ID' (treatment), 'Well' (well position), and 'Pathway' (moa)\n",
    "    plate_pathway_meta_df = pathway_meta_df.loc[pathway_meta_df[\"Plate\"] == plate_id][\n",
    "        [\"UCD ID\", \"Well\", \"Pathway\"]\n",
    "    ]\n",
    "\n",
    "    # Merge the pathway metadata into the platemap using 'treatment' and 'well_position'\n",
    "    # as keys. Perform a left join to retain all rows from the platemap\n",
    "    merged_df = plate_meta_df.merge(\n",
    "        plate_pathway_meta_df,\n",
    "        left_on=[\"treatment\", \"well_position\"],\n",
    "        right_on=[\"UCD ID\", \"Well\"],\n",
    "        how=\"left\",\n",
    "    )\n",
    "\n",
    "    # Ensure no rows or columns in the original platemap were modified during the merge\n",
    "    # This checks that only the added MOA information changes the dataframe,\n",
    "    # while the original content remains identical.\n",
    "    assert merged_df[\n",
    "        plate_meta_df.columns\n",
    "    ].equals(\n",
    "        plate_meta_df\n",
    "    ), \"The merged DataFrame's original rows or columns have been unexpectedly modified.\"\n",
    "\n",
    "    # Save the augmented platemap with MOA information to the output directory\n",
    "    merged_df.to_csv(updated_platemaps_dir / outname, index=False)"
   ]
  }
 ],
 "metadata": {
  "kernelspec": {
   "display_name": "copairs-dev",
   "language": "python",
   "name": "python3"
  },
  "language_info": {
   "codemirror_mode": {
    "name": "ipython",
    "version": 3
   },
   "file_extension": ".py",
   "mimetype": "text/x-python",
   "name": "python",
   "nbconvert_exporter": "python",
   "pygments_lexer": "ipython3",
   "version": "3.11.11"
  }
 },
 "nbformat": 4,
 "nbformat_minor": 2
}
