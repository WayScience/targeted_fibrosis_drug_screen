{
 "cells": [
  {
   "cell_type": "markdown",
   "metadata": {},
   "source": [
    "# Run illumination correction on data\n",
    "\n",
    "Note: We load in the CellProfiler IC pipeline to use for this process."
   ]
  },
  {
   "cell_type": "markdown",
   "metadata": {},
   "source": [
    "## Import libraries"
   ]
  },
  {
   "cell_type": "code",
   "execution_count": 1,
   "metadata": {},
   "outputs": [],
   "source": [
    "import pathlib\n",
    "import pprint\n",
    "import requests\n",
    "\n",
    "import sys\n",
    "\n",
    "sys.path.append(\"../utils\")\n",
    "import cp_parallel"
   ]
  },
  {
   "cell_type": "markdown",
   "metadata": {},
   "source": [
    "## Set paths and variables"
   ]
  },
  {
   "cell_type": "code",
   "execution_count": 2,
   "metadata": {},
   "outputs": [
    {
     "name": "stdout",
     "output_type": "stream",
     "text": [
      "There are a total of 4 plates. The names of the plates are:\n",
      "localhost240927120001\n",
      "localhost240928120001\n",
      "localhost240927060001\n",
      "localhost240926150001\n"
     ]
    }
   ],
   "source": [
    "# set the run type for the parallelization\n",
    "run_name = \"illum_correction\"\n",
    "\n",
    "# set main output dir for all plates if it doesn't exist\n",
    "output_dir = pathlib.Path(\"./Corrected_Images\")\n",
    "output_dir.mkdir(exist_ok=True)\n",
    "\n",
    "# directory where images are located within folders (held in DropBox specific directory)\n",
    "images_dir = pathlib.Path(\"../../Way Science Lab Dropbox/Jenna  Tomkinson/McKinseyLab_WayLab_CardiacFibroblasts/Compound Screen\")\n",
    "\n",
    "# list for plate names based on folders to use to create dictionary\n",
    "plate_names = []\n",
    "# iterate through 0.download_data and append plate names from folder names that contain image data from that plate\n",
    "for file_path in images_dir.iterdir():\n",
    "    plate_names.append(str(file_path.stem))\n",
    "\n",
    "print(\"There are a total of\", len(plate_names), \"plates. The names of the plates are:\")\n",
    "for plate in plate_names:\n",
    "    print(plate)"
   ]
  },
  {
   "cell_type": "markdown",
   "metadata": {},
   "source": [
    "## Load in `illum.cppipe` file to process data"
   ]
  },
  {
   "cell_type": "code",
   "execution_count": 3,
   "metadata": {},
   "outputs": [
    {
     "name": "stdout",
     "output_type": "stream",
     "text": [
      "File downloaded successfully to pipeline/illum.cppipe\n"
     ]
    }
   ],
   "source": [
    "# Define the GitHub raw file link (this link will get whatever file is in main)\n",
    "github_url = \"https://raw.githubusercontent.com/WayScience/cellpainting_predicts_cardiac_fibrosis/refs/heads/main/1.preprocessing_data/pipelines/illum.cppipe\"\n",
    "\n",
    "# Create the pipeline directory if it doesn't exist\n",
    "pipeline_dir = pathlib.Path(\"pipeline\")\n",
    "pipeline_dir.mkdir(exist_ok=True)\n",
    "\n",
    "# Download the file\n",
    "response = requests.get(github_url)\n",
    "response.raise_for_status()  # Raise an error for bad responses (4xx, 5xx)\n",
    "\n",
    "# Save the file contents\n",
    "file_path = pipeline_dir / github_url.split(\"/\")[-1]\n",
    "file_path.write_bytes(response.content)\n",
    "\n",
    "print(f\"File downloaded successfully to {file_path}\")\n",
    "\n",
    "# Create a variable to store the resolved path\n",
    "path_to_pipeline = file_path.resolve(strict=True)"
   ]
  },
  {
   "cell_type": "markdown",
   "metadata": {},
   "source": [
    "## Create dictionary with all plate data to run CellProfiler in parallel"
   ]
  },
  {
   "cell_type": "code",
   "execution_count": 4,
   "metadata": {},
   "outputs": [
    {
     "name": "stdout",
     "output_type": "stream",
     "text": [
      "{   'localhost240926150001': {   'path_to_images': PosixPath('/home/jenna/Way Science Lab Dropbox/Jenna  Tomkinson/McKinseyLab_WayLab_CardiacFibroblasts/Compound Screen/localhost240926150001'),\n",
      "                                 'path_to_output': PosixPath('Corrected_Images/localhost240926150001'),\n",
      "                                 'path_to_pipeline': PosixPath('/home/jenna/targeted_fibrosis_drug_screen/1.illumination_correction/pipeline/illum.cppipe')},\n",
      "    'localhost240927060001': {   'path_to_images': PosixPath('/home/jenna/Way Science Lab Dropbox/Jenna  Tomkinson/McKinseyLab_WayLab_CardiacFibroblasts/Compound Screen/localhost240927060001'),\n",
      "                                 'path_to_output': PosixPath('Corrected_Images/localhost240927060001'),\n",
      "                                 'path_to_pipeline': PosixPath('/home/jenna/targeted_fibrosis_drug_screen/1.illumination_correction/pipeline/illum.cppipe')},\n",
      "    'localhost240927120001': {   'path_to_images': PosixPath('/home/jenna/Way Science Lab Dropbox/Jenna  Tomkinson/McKinseyLab_WayLab_CardiacFibroblasts/Compound Screen/localhost240927120001'),\n",
      "                                 'path_to_output': PosixPath('Corrected_Images/localhost240927120001'),\n",
      "                                 'path_to_pipeline': PosixPath('/home/jenna/targeted_fibrosis_drug_screen/1.illumination_correction/pipeline/illum.cppipe')},\n",
      "    'localhost240928120001': {   'path_to_images': PosixPath('/home/jenna/Way Science Lab Dropbox/Jenna  Tomkinson/McKinseyLab_WayLab_CardiacFibroblasts/Compound Screen/localhost240928120001'),\n",
      "                                 'path_to_output': PosixPath('Corrected_Images/localhost240928120001'),\n",
      "                                 'path_to_pipeline': PosixPath('/home/jenna/targeted_fibrosis_drug_screen/1.illumination_correction/pipeline/illum.cppipe')}}\n"
     ]
    }
   ],
   "source": [
    "# create plate info dictionary with all parts of the CellProfiler CLI command to run in parallel\n",
    "plate_info_dictionary = {\n",
    "    name: {\n",
    "        \"path_to_images\": pathlib.Path(list(images_dir.rglob(name))[0]).resolve(\n",
    "            strict=True\n",
    "        ),\n",
    "        \"path_to_output\": pathlib.Path(f\"{output_dir}/{name}\"),\n",
    "        \"path_to_pipeline\": path_to_pipeline,\n",
    "    }\n",
    "    for name in plate_names\n",
    "}\n",
    "\n",
    "# view the dictionary to assess that all info is added correctly\n",
    "pprint.pprint(plate_info_dictionary, indent=4)"
   ]
  },
  {
   "cell_type": "markdown",
   "metadata": {},
   "source": [
    "## Run CellProfiler Parallel\n",
    "\n",
    "Note: We do not run this code cell as we will run this process through the script."
   ]
  },
  {
   "cell_type": "code",
   "execution_count": null,
   "metadata": {},
   "outputs": [],
   "source": [
    "cp_parallel.run_cellprofiler_parallel(\n",
    "    plate_info_dictionary=plate_info_dictionary, run_name=run_name\n",
    ")"
   ]
  }
 ],
 "metadata": {
  "kernelspec": {
   "display_name": "Python 3",
   "language": "python",
   "name": "python3"
  },
  "language_info": {
   "codemirror_mode": {
    "name": "ipython",
    "version": 3
   },
   "file_extension": ".py",
   "mimetype": "text/x-python",
   "name": "python",
   "nbconvert_exporter": "python",
   "pygments_lexer": "ipython3",
   "version": "3.9.20"
  }
 },
 "nbformat": 4,
 "nbformat_minor": 2
}
