{
 "cells": [
  {
   "cell_type": "markdown",
   "metadata": {},
   "source": [
    "## Aggregating single cells\n",
    "In this notebook, we process single-cell feature-selected profiles to generate compound-level aggregated profiled for each plate using the pycytominer. The single-cell profiles are grouped by treatment (Metadata_treatment) and are saved as Parquet files in the aggregated_profiles directory. These aggregated profiles provide concise and interpretable data for downstream analysis at the compound level."
   ]
  },
  {
   "cell_type": "code",
   "execution_count": 1,
   "metadata": {},
   "outputs": [],
   "source": [
    "import pathlib\n",
    "import pandas as pd\n",
    "from pycytominer import aggregate\n"
   ]
  },
  {
   "cell_type": "code",
   "execution_count": 2,
   "metadata": {},
   "outputs": [],
   "source": [
    "# parameters\n",
    "sc_fs_tag = \"sc_feature_selected\"\n",
    "agg_tag = \"aggregated\"\n",
    "\n",
    "# setting up paths\n",
    "data_dir = pathlib.Path(\"./data\").resolve(strict=True)\n",
    "sc_data_dir = pathlib.Path(\"../3.preprocessing_features/data/single_cell_profiles/\").resolve(strict=True)\n",
    "metadata_dir = pathlib.Path(\"../metadata/updated_platemaps\").resolve(strict=True)\n",
    "\n",
    "# setting metadata paths\n",
    "updated_barcode_path = (metadata_dir / \"updated_barcode_platemap.csv\").resolve(strict=True)\n",
    "all_profiles_paths = list(sc_data_dir.glob(\"*sc_feature_selected.parquet\"))\n",
    "\n",
    "# output files paths\n",
    "aggregated_dir_path = (data_dir / \"aggregated_profiles\").resolve()\n",
    "aggregated_dir_path.mkdir(exist_ok=True)"
   ]
  },
  {
   "cell_type": "code",
   "execution_count": null,
   "metadata": {},
   "outputs": [],
   "source": []
  },
  {
   "cell_type": "markdown",
   "metadata": {},
   "source": [
    "Next, we use the aggregation functionality provided by pycytominer to consolidate single-cell profiles into well-level summaries for each plate. This step groups the data by a specified metadata column and computes aggregate statistics by using the median."
   ]
  },
  {
   "cell_type": "code",
   "execution_count": 42,
   "metadata": {},
   "outputs": [],
   "source": [
    "# Iterate over all profile file paths to process and aggregate data\n",
    "for plate_path in all_profiles_paths:\n",
    "\n",
    "    # Extract the plate name from the file stem\n",
    "    plate_name = plate_path.stem.split(\"_\", 1)[0]\n",
    "\n",
    "    # Load the single-cell profile data from the current Parquet file into a DataFrame\n",
    "    profile_df = pd.read_parquet(plate_path)\n",
    "    \n",
    "    # Create the new column \"Metadata_Well\" by concatenating 'Metadata_WellRow' and 'Metadata_WellCol'\n",
    "    profile_df[\"Metadata_Well\"] = (\n",
    "        profile_df[\"Metadata_WellRow\"].astype(str) + profile_df[\"Metadata_WellCol\"].astype(str)\n",
    "    )\n",
    "\n",
    "    # Move the new column to the first position\n",
    "    profile_df = profile_df[[\"Metadata_Well\"] + [col for col in profile_df.columns if col != \"Metadata_Well\"]]\n",
    "\n",
    "    # Apply the aggregation function using pycytominer\n",
    "    # This step groups the single-cell data by the 'Metadata_treatment' column\n",
    "    # and computes aggregate statistics to summarize profiles at the compound level\n",
    "    # Save the aggregated data to the output directory as a Parquet file\n",
    "    agg_df = aggregate(\n",
    "        profile_df,\n",
    "        strata=[\"Metadata_WellRow\", \"Metadata_WellCol\"],\n",
    "        output_type=\"parquet\",\n",
    "        output_file=(aggregated_dir_path / f\"{plate_name}_{agg_tag}.parquet\").resolve(),\n",
    "    )\n",
    "\n"
   ]
  }
 ],
 "metadata": {
  "kernelspec": {
   "display_name": "fibrosis_preprocessing_env",
   "language": "python",
   "name": "python3"
  },
  "language_info": {
   "codemirror_mode": {
    "name": "ipython",
    "version": 3
   },
   "file_extension": ".py",
   "mimetype": "text/x-python",
   "name": "python",
   "nbconvert_exporter": "python",
   "pygments_lexer": "ipython3",
   "version": "3.10.16"
  }
 },
 "nbformat": 4,
 "nbformat_minor": 2
}
