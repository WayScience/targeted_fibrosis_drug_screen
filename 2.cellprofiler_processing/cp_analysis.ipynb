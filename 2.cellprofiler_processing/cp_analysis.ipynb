{
 "cells": [
  {
   "cell_type": "markdown",
   "metadata": {},
   "source": [
    "# CellProfiler segmentation and feature extraction\n",
    "\n",
    "Note: We name this notebook as `analysis` to follow similar conventions set by CellProfiler."
   ]
  },
  {
   "cell_type": "markdown",
   "metadata": {},
   "source": [
    "## Import libraries"
   ]
  },
  {
   "cell_type": "code",
   "execution_count": 1,
   "metadata": {},
   "outputs": [],
   "source": [
    "import pathlib\n",
    "import pprint\n",
    "import requests\n",
    "\n",
    "import sys\n",
    "\n",
    "sys.path.append(\"../utils\")\n",
    "import cp_parallel"
   ]
  },
  {
   "attachments": {},
   "cell_type": "markdown",
   "metadata": {},
   "source": [
    "## Set paths and variables"
   ]
  },
  {
   "cell_type": "code",
   "execution_count": 2,
   "metadata": {},
   "outputs": [
    {
     "name": "stdout",
     "output_type": "stream",
     "text": [
      "There are a total of 4 plates. The names of the plates are:\n",
      "localhost240927120001\n",
      "localhost240928120001\n",
      "localhost240927060001\n",
      "localhost240926150001\n"
     ]
    }
   ],
   "source": [
    "# set the run type for the parallelization\n",
    "run_name = \"analysis\"\n",
    "\n",
    "# path to output for SQLite database files per plate folder (create if does not already exist)\n",
    "output_dir = pathlib.Path(\"./cp_output/\")\n",
    "output_dir.mkdir(exist_ok=True)\n",
    "\n",
    "# Directory where all images are separated by folder per plate\n",
    "images_dir = pathlib.Path(\"../1.illumination_correction/Corrected_Images\").resolve(strict=True)\n",
    "\n",
    "# list for plate names based on folders to use to create dictionary\n",
    "plate_names = []\n",
    "\n",
    "# iterate and append plate names from folders\n",
    "for file_path in images_dir.iterdir():\n",
    "    plate_names.append(str(file_path.stem))\n",
    "\n",
    "print(\"There are a total of\", len(plate_names), \"plates. The names of the plates are:\")\n",
    "for plate in plate_names:\n",
    "    print(plate)"
   ]
  },
  {
   "cell_type": "markdown",
   "metadata": {},
   "source": [
    "## Load in CellProfiler analysis file to process data"
   ]
  },
  {
   "cell_type": "code",
   "execution_count": 3,
   "metadata": {},
   "outputs": [
    {
     "name": "stdout",
     "output_type": "stream",
     "text": [
      "File downloaded successfully to pipeline/CFReT_project_CL.cppipe\n"
     ]
    }
   ],
   "source": [
    "# Define the GitHub raw file link (this link will get whatever file is in main)\n",
    "github_url = \"https://raw.githubusercontent.com/WayScience/cellpainting_predicts_cardiac_fibrosis/refs/heads/main/2.cellprofiler_processing/pipeline/CFReT_project_CL.cppipe\"\n",
    "\n",
    "# Create the pipeline directory if it doesn't exist\n",
    "pipeline_dir = pathlib.Path(\"pipeline\")\n",
    "pipeline_dir.mkdir(exist_ok=True)\n",
    "\n",
    "# Download the file\n",
    "response = requests.get(github_url)\n",
    "response.raise_for_status()  # Raise an error for bad responses (4xx, 5xx)\n",
    "\n",
    "# Save the file contents\n",
    "file_path = pipeline_dir / github_url.split(\"/\")[-1]\n",
    "file_path.write_bytes(response.content)\n",
    "\n",
    "print(f\"File downloaded successfully to {file_path}\")\n",
    "\n",
    "# Create a variable to store the resolved path\n",
    "path_to_pipeline = file_path.resolve(strict=True)"
   ]
  },
  {
   "cell_type": "markdown",
   "metadata": {},
   "source": [
    "## Update the `Threshold correction factor` when segmenting nuclei and cells from the original file\n",
    "\n",
    "When manually evaluating how the parameters are working with this dataset, I noticed some issues with the segmentation:\n",
    "\n",
    "1. Under-segmentation of whole cells\n",
    "2. Segmentation of nuclei from empty images\n",
    "\n",
    "Both of these segmentation parameters are updated from their original value to 0.5 to be more \"lenient\" per the documentation, but I have found it improves both of these issues. \n",
    "Segmentation is never perfect but this makes a improvement from eye.\n",
    "\n",
    "Note: The code below is hardcoded to change the parameters from a specific integer. This currently is what works, we will look to make this more generalizable in the future."
   ]
  },
  {
   "cell_type": "code",
   "execution_count": 4,
   "metadata": {},
   "outputs": [
    {
     "name": "stdout",
     "output_type": "stream",
     "text": [
      "File updated successfully at /home/jenna/targeted_fibrosis_drug_screen/2.cellprofiler_processing/pipeline/CFReT_project_CL.cppipe\n"
     ]
    }
   ],
   "source": [
    "# Read and modify the file\n",
    "path_to_pipeline = file_path.resolve(strict=True)\n",
    "with open(path_to_pipeline, 'r') as file:\n",
    "    lines = file.readlines()\n",
    "\n",
    "# Variables to keep track of where we are in the file\n",
    "in_identify_secondary_objects = False\n",
    "in_identify_primary_objects = False\n",
    "threshold_correction_factor_found_secondary = False\n",
    "threshold_correction_factor_found_primary = False\n",
    "\n",
    "# Modify the content\n",
    "with open(path_to_pipeline, 'w') as file:\n",
    "    for line in lines:\n",
    "        # Check if we're in the IdentifySecondaryObjects section\n",
    "        if \"IdentifySecondaryObjects\" in line:\n",
    "            in_identify_secondary_objects = True\n",
    "            in_identify_primary_objects = False  # Ensure we're only in one section at a time\n",
    "        \n",
    "        # Check if we're in the IdentifyPrimaryObjects section\n",
    "        if \"IdentifyPrimaryObjects\" in line:\n",
    "            in_identify_primary_objects = True\n",
    "            in_identify_secondary_objects = False  # Ensure we're only in one section at a time\n",
    "        \n",
    "        # If in the IdentifySecondaryObjects section and find the Threshold correction factor\n",
    "        if in_identify_secondary_objects and \"Threshold correction factor\" in line:\n",
    "            # Replace the value of the threshold correction factor (optimize segmentation for cells)\n",
    "            line = line.replace(\"0.8\", \"0.5\")\n",
    "            threshold_correction_factor_found_secondary = True\n",
    "        \n",
    "        # If in the IdentifyPrimaryObjects section and find the Threshold correction factor\n",
    "        if in_identify_primary_objects and \"Threshold correction factor\" in line:\n",
    "            # Replace the value of the threshold correction factor (prevent non-existent nuclei from being segmented)\n",
    "            line = line.replace(\"0.9\", \"0.3\")\n",
    "            threshold_correction_factor_found_primary = True\n",
    "        \n",
    "        # Write the line back to the file\n",
    "        file.write(line)\n",
    "        \n",
    "        # Exit sections after processing the Threshold correction factor\n",
    "        if in_identify_secondary_objects and threshold_correction_factor_found_secondary:\n",
    "            in_identify_secondary_objects = False\n",
    "\n",
    "        if in_identify_primary_objects and threshold_correction_factor_found_primary:\n",
    "            in_identify_primary_objects = False\n",
    "\n",
    "print(f\"File updated successfully at {path_to_pipeline}\")"
   ]
  },
  {
   "cell_type": "markdown",
   "metadata": {},
   "source": [
    "## Create dictionary with all of the necessary paths to run CellProfiler analysis"
   ]
  },
  {
   "cell_type": "code",
   "execution_count": 5,
   "metadata": {},
   "outputs": [
    {
     "name": "stdout",
     "output_type": "stream",
     "text": [
      "{   'localhost240926150001': {   'path_to_images': PosixPath('/home/jenna/targeted_fibrosis_drug_screen/1.illumination_correction/Corrected_Images/localhost240926150001'),\n",
      "                                 'path_to_output': PosixPath('cp_output/localhost240926150001'),\n",
      "                                 'path_to_pipeline': PosixPath('/home/jenna/targeted_fibrosis_drug_screen/2.cellprofiler_processing/pipeline/CFReT_project_CL.cppipe')},\n",
      "    'localhost240927060001': {   'path_to_images': PosixPath('/home/jenna/targeted_fibrosis_drug_screen/1.illumination_correction/Corrected_Images/localhost240927060001'),\n",
      "                                 'path_to_output': PosixPath('cp_output/localhost240927060001'),\n",
      "                                 'path_to_pipeline': PosixPath('/home/jenna/targeted_fibrosis_drug_screen/2.cellprofiler_processing/pipeline/CFReT_project_CL.cppipe')},\n",
      "    'localhost240927120001': {   'path_to_images': PosixPath('/home/jenna/targeted_fibrosis_drug_screen/1.illumination_correction/Corrected_Images/localhost240927120001'),\n",
      "                                 'path_to_output': PosixPath('cp_output/localhost240927120001'),\n",
      "                                 'path_to_pipeline': PosixPath('/home/jenna/targeted_fibrosis_drug_screen/2.cellprofiler_processing/pipeline/CFReT_project_CL.cppipe')},\n",
      "    'localhost240928120001': {   'path_to_images': PosixPath('/home/jenna/targeted_fibrosis_drug_screen/1.illumination_correction/Corrected_Images/localhost240928120001'),\n",
      "                                 'path_to_output': PosixPath('cp_output/localhost240928120001'),\n",
      "                                 'path_to_pipeline': PosixPath('/home/jenna/targeted_fibrosis_drug_screen/2.cellprofiler_processing/pipeline/CFReT_project_CL.cppipe')}}\n"
     ]
    }
   ],
   "source": [
    "# create plate info dictionary with all parts of the CellProfiler CLI command to run in parallel\n",
    "plate_info_dictionary = {\n",
    "    name: {\n",
    "        \"path_to_images\": pathlib.Path(list(images_dir.rglob(name))[0]).resolve(\n",
    "            strict=True\n",
    "        ),\n",
    "        \"path_to_output\": pathlib.Path(f\"{output_dir}/{name}\"),\n",
    "        \"path_to_pipeline\": path_to_pipeline,\n",
    "\n",
    "    }\n",
    "    for name in plate_names\n",
    "}\n",
    "\n",
    "# view the dictionary to assess that all info is added correctly\n",
    "pprint.pprint(plate_info_dictionary, indent=4)"
   ]
  },
  {
   "attachments": {},
   "cell_type": "markdown",
   "metadata": {},
   "source": [
    "## Run CellProfiler analysis on all plates\n",
    "\n",
    "**Note:** This code cell will not be run in this notebook due to the instability of jupyter notebooks compared to running as a python script. All CellProfiler SQLite outputs will have the same name but outputted into their respective plate folder (due to parallelization)."
   ]
  },
  {
   "cell_type": "code",
   "execution_count": null,
   "metadata": {},
   "outputs": [],
   "source": [
    "cp_parallel.run_cellprofiler_parallel(\n",
    "    plate_info_dictionary=plate_info_dictionary, run_name=run_name\n",
    ")"
   ]
  }
 ],
 "metadata": {
  "kernelspec": {
   "display_name": "cp4",
   "language": "python",
   "name": "python3"
  },
  "language_info": {
   "codemirror_mode": {
    "name": "ipython",
    "version": 3
   },
   "file_extension": ".py",
   "mimetype": "text/x-python",
   "name": "python",
   "nbconvert_exporter": "python",
   "pygments_lexer": "ipython3",
   "version": "3.9.20"
  },
  "orig_nbformat": 4,
  "vscode": {
   "interpreter": {
    "hash": "76e63630a0eb59d63146118723e192b689e9b39a2cbdd1e2e8896e9ba1a56272"
   }
  }
 },
 "nbformat": 4,
 "nbformat_minor": 2
}
